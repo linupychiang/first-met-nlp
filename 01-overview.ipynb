{
 "cells": [
  {
   "cell_type": "markdown",
   "source": [
    "## nlp 4大任务类别\r\n",
    "1. 序列标注\r\n",
    "\t- 分词\r\n",
    "\t- 词性标注\r\n",
    "\t- 命名实体识别\r\n",
    "2. 分类任务\r\n",
    "\t- 文本分类\r\n",
    "\t- 情感计算\r\n",
    "3. 句子关系判断\r\n",
    "\t- 文本匹配\r\n",
    "\t- 相似度计算\r\n",
    "4. 生成式任务\r\n",
    "\t- 机器翻译\r\n",
    "\t- 问答系统\r\n",
    "\t- 文本摘要"
   ],
   "metadata": {}
  }
 ],
 "metadata": {
  "orig_nbformat": 4,
  "language_info": {
   "name": "python"
  }
 },
 "nbformat": 4,
 "nbformat_minor": 2
}